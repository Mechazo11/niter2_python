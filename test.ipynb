{
 "cells": [
  {
   "cell_type": "markdown",
   "metadata": {},
   "source": [
    "### Test script for developing niter2 python port"
   ]
  },
  {
   "cell_type": "code",
   "execution_count": null,
   "metadata": {},
   "outputs": [],
   "source": [
    "# Imports\n",
    "import finalproject as proj"
   ]
  },
  {
   "cell_type": "code",
   "execution_count": null,
   "metadata": {},
   "outputs": [],
   "source": [
    "proj.show_epilines(\"test\", \"SIFT\")"
   ]
  },
  {
   "cell_type": "code",
   "execution_count": null,
   "metadata": {},
   "outputs": [],
   "source": [
    "proj.show_epilines(\"test\", \"ORB\")"
   ]
  },
  {
   "cell_type": "code",
   "execution_count": 1,
   "metadata": {
    "metadata": {}
   },
   "outputs": [
    {
     "name": "stdout",
     "output_type": "stream",
     "text": [
      "[  9. 225.   1.]\n",
      "[  5. 223.   1.]\n"
     ]
    }
   ],
   "source": [
    "import finalproject as proj\n",
    "proj.test_pipeline(\"test\", \"SIFT\", False)"
   ]
  },
  {
   "cell_type": "code",
   "execution_count": 3,
   "metadata": {},
   "outputs": [
    {
     "name": "stdout",
     "output_type": "stream",
     "text": [
      "self.algorithm is not a scalar of value 1\n"
     ]
    }
   ],
   "source": [
    "import numpy as np\n",
    "algorithm = np.array([[2]], dtype=np.int8)\n",
    "if np.array_equal(algorithm, np.array([[1]], dtype=np.int8)):\n",
    "    print(\"self.algorithm is a scalar of value 1\")\n",
    "else:\n",
    "    print(\"self.algorithm is not a scalar of value 1\")"
   ]
  }
 ],
 "metadata": {
  "kernelspec": {
   "display_name": "me7953_app_comp",
   "language": "python",
   "name": "python3"
  },
  "language_info": {
   "codemirror_mode": {
    "name": "ipython",
    "version": 3
   },
   "file_extension": ".py",
   "mimetype": "text/x-python",
   "name": "python",
   "nbconvert_exporter": "python",
   "pygments_lexer": "ipython3",
   "version": "3.10.13"
  }
 },
 "nbformat": 4,
 "nbformat_minor": 2
}
