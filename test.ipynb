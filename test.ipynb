{
 "cells": [
  {
   "cell_type": "markdown",
   "metadata": {},
   "source": [
    "### Test script for developing niter2 python port"
   ]
  },
  {
   "cell_type": "code",
   "execution_count": null,
   "metadata": {},
   "outputs": [],
   "source": [
    "# Imports\n",
    "import finalproject as proj"
   ]
  },
  {
   "cell_type": "code",
   "execution_count": null,
   "metadata": {},
   "outputs": [],
   "source": [
    "proj.test_dev(\"test\", \"SIFT\")"
   ]
  },
  {
   "cell_type": "code",
   "execution_count": null,
   "metadata": {},
   "outputs": [],
   "source": [
    "proj.test_dev(\"test\", \"ORB\")"
   ]
  },
  {
   "cell_type": "code",
   "execution_count": 1,
   "metadata": {},
   "outputs": [
    {
     "name": "stdout",
     "output_type": "stream",
     "text": [
      "\n",
      "calibration matrix K : [[527.013    0.     330.9551]\n",
      " [  0.     526.6927 225.9335]\n",
      " [  0.       0.       1.    ]]\n",
      "\n",
      "Essential matrix E: [[ 1.00866175e-15  8.30377335e-13 -3.02706321e-14]\n",
      " [-8.32140344e-13 -9.70442254e-16 -4.05677892e+00]\n",
      " [ 3.03521112e-14  4.05677892e+00  0.00000000e+00]]\n",
      "\n",
      "Rotation Matrix 1:\n",
      " [[ 1.00000000e+00 -1.49435660e-14 -4.09812246e-13]\n",
      " [-1.49435660e-14 -1.00000000e+00  2.39214972e-16]\n",
      " [-4.09812246e-13  3.06614364e-27 -1.00000000e+00]]\n",
      "Rotation Matrix 2:\n",
      " [[ 1.00000000e+00 -2.00846740e-17 -4.34583506e-16]\n",
      " [ 2.00846740e-17  1.00000000e+00 -2.39214972e-16]\n",
      " [ 4.34583506e-16 -3.25147788e-30  1.00000000e+00]]\n",
      "Translation Vector:\n",
      " [[-1.00000000e+00]\n",
      " [ 7.46174064e-15]\n",
      " [ 2.04688831e-13]]\n",
      "\n"
     ]
    }
   ],
   "source": [
    "import finalproject as proj\n",
    "\n",
    "proj.test_pipeline(\"test\", \"SIFT\", False)"
   ]
  }
 ],
 "metadata": {
  "kernelspec": {
   "display_name": "me7953_app_comp",
   "language": "python",
   "name": "python3"
  },
  "language_info": {
   "codemirror_mode": {
    "name": "ipython",
    "version": 3
   },
   "file_extension": ".py",
   "mimetype": "text/x-python",
   "name": "python",
   "nbconvert_exporter": "python",
   "pygments_lexer": "ipython3",
   "version": "3.10.13"
  }
 },
 "nbformat": 4,
 "nbformat_minor": 2
}
