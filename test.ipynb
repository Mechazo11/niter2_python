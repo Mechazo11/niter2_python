{
 "cells": [
  {
   "cell_type": "markdown",
   "metadata": {},
   "source": [
    "### Test script for developing niter2 python port"
   ]
  },
  {
   "cell_type": "code",
   "execution_count": null,
   "metadata": {},
   "outputs": [],
   "source": [
    "# Imports\n",
    "import finalproject as proj"
   ]
  },
  {
   "cell_type": "code",
   "execution_count": null,
   "metadata": {},
   "outputs": [],
   "source": [
    "proj.show_epilines(\"test\", \"SIFT\")"
   ]
  },
  {
   "cell_type": "code",
   "execution_count": null,
   "metadata": {},
   "outputs": [],
   "source": [
    "proj.show_epilines(\"test\", \"ORB\")"
   ]
  },
  {
   "cell_type": "code",
   "execution_count": 1,
   "metadata": {
    "metadata": {}
   },
   "outputs": [
    {
     "name": "stdout",
     "output_type": "stream",
     "text": [
      "running warmup....\n",
      "a: 60.0, b: 34.0, c: 15.0, d: 16.0, lambda: 0.3, del_x: [1.5 1.5], del_x': [0.9 0.9]\n",
      "warmup complete\n",
      "[[  9. 225.]\n",
      " [  9. 216.]\n",
      " [ 14. 296.]\n",
      " [ 17. 261.]\n",
      " [ 18. 127.]]\n",
      "\n",
      "[[  5. 223.]\n",
      " [  6. 214.]\n",
      " [ 11. 295.]\n",
      " [ 12. 260.]\n",
      " [ 15. 124.]]\n",
      "\n",
      "[[    1.07326294  1255.98782151  -142.90615119]\n",
      " [-1261.60934979     3.34508106    23.34243086]\n",
      " [  141.51516519   -24.46183154     0.12185632]]\n",
      "\n",
      "a: 2162643966314.2026, b: 79519039710.32135, c: 1268563.378970143, d: 79501787561.75389, lambda: 7.977341086269824e-06, del_x: [ 2.23323864 -0.04418451], del_x': [-2.26325885  0.09598394]\n",
      "a: 1623839588189.436, b: 73269416265.74086, c: 938038.0004927353, d: 73259020855.3321, lambda: 6.401747121056486e-06, del_x: [ 1.71979689 -0.04372692], del_x': [-1.74355709  0.07683355]\n",
      "a: 2420273960717.0254, b: 138516381621.22803, c: 1370936.642114103, d: 138504404028.10654, lambda: 4.948858400284434e-06, del_x: [ 1.83298444 -0.06367974], del_x': [-1.84730901  0.09179891]\n",
      "a: 3070191227609.668, b: 107785215895.01257, c: 1826323.0312274944, d: 107759201948.5353, lambda: 8.473070420933492e-06, del_x: [ 2.76583732 -0.12070947], del_x': [-2.78865931  0.18810553]\n",
      "a: 735796595422.5005, b: 25353844520.910652, c: 452448.8839512803, d: 25347278387.27655, lambda: 8.923843457483247e-06, del_x: [ 1.38868999 -0.16496624], del_x': [-1.42838209  0.20532108]\n"
     ]
    }
   ],
   "source": [
    "import finalproject as proj\n",
    "import numpy as np\n",
    "np.set_printoptions(suppress=True)\n",
    "\n",
    "proj.test_pipeline(\"test\", \"SIFT\", False)"
   ]
  },
  {
   "cell_type": "code",
   "execution_count": 1,
   "metadata": {},
   "outputs": [
    {
     "name": "stdout",
     "output_type": "stream",
     "text": [
      "(5, 2)\n",
      "(5, 1)\n",
      "[[ 1.0732629e+00  1.2559878e+03 -1.4290616e+02]\n",
      " [-1.2616094e+03  3.3450811e+00  2.3342430e+01]\n",
      " [ 1.4151517e+02 -2.4461832e+01  1.2185632e-01]]\n",
      "lambda_mat shape: (5, 5), del_x: (5, 2)\n",
      "[[-0.7180806   0.47941983]\n",
      " [ 0.20375702  0.44156465]\n",
      " [ 3.318598    0.31204188]\n",
      " [13.179909   -0.09498492]\n",
      " [55.77088    -1.8522338 ]]\n"
     ]
    }
   ],
   "source": [
    "import finalproject as proj\n",
    "import numpy as np\n",
    "\n",
    "lp = np.array([[9,225],[9,216],[14,296],[17,261],[18,127]], dtype=np.float32)\n",
    "rp = np.array([[5,223],[6,214],[11,295],[12,260],[15,124]], dtype=np.float32)\n",
    "sp = np.array([[1,0,0], [0,1,0]], dtype=np.float32)\n",
    "ep = np.array([[1.07326294, 1255.98782151, -142.90615119],\n",
    "               [-1261.60934979, 3.34508106, 23.34243086],\n",
    "               [141.51516519,-24.46183154,0.12185632]], dtype=np.float32)\n",
    "algo = np.array([[1]], dtype=float)\n",
    "arr_add = np.ones(lp.shape[0], dtype=np.float32).reshape(-1,1)\n",
    "\n",
    "proj._non_iter_vectorized(algo, lp, rp, ep, sp)"
   ]
  }
 ],
 "metadata": {
  "kernelspec": {
   "display_name": "me7953_app_comp",
   "language": "python",
   "name": "python3"
  },
  "language_info": {
   "codemirror_mode": {
    "name": "ipython",
    "version": 3
   },
   "file_extension": ".py",
   "mimetype": "text/x-python",
   "name": "python",
   "nbconvert_exporter": "python",
   "pygments_lexer": "ipython3",
   "version": "3.10.13"
  }
 },
 "nbformat": 4,
 "nbformat_minor": 2
}
