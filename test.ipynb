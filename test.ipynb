{
 "cells": [
  {
   "cell_type": "markdown",
   "metadata": {},
   "source": [
    "### Test script for developing niter2 python port"
   ]
  },
  {
   "cell_type": "code",
   "execution_count": null,
   "metadata": {},
   "outputs": [],
   "source": [
    "# Imports\n",
    "import finalproject as proj"
   ]
  },
  {
   "cell_type": "code",
   "execution_count": null,
   "metadata": {},
   "outputs": [],
   "source": [
    "proj.show_epilines(\"test\", \"SIFT\")"
   ]
  },
  {
   "cell_type": "code",
   "execution_count": null,
   "metadata": {},
   "outputs": [],
   "source": [
    "proj.show_epilines(\"test\", \"ORB\")"
   ]
  },
  {
   "cell_type": "code",
   "execution_count": 1,
   "metadata": {
    "metadata": {}
   },
   "outputs": [
    {
     "name": "stdout",
     "output_type": "stream",
     "text": [
      "\n",
      "[[-6.2974608e-01 -1.1780927e-01 -6.0328533e-04]\n",
      " [-6.2968439e-01 -1.3477679e-01 -7.2360405e-04]\n",
      " [-6.2056822e-01  1.8044224e-02 -2.7116273e-05]\n",
      " [-6.1667192e-01 -4.8037607e-02 -3.1386138e-04]\n",
      " [-6.1150628e-01 -3.0400145e-01 -2.9675199e-03]]\n"
     ]
    }
   ],
   "source": [
    "import finalproject as proj\n",
    "proj.test_pipeline(\"test\", \"SIFT\", False)"
   ]
  }
 ],
 "metadata": {
  "kernelspec": {
   "display_name": "me7953_app_comp",
   "language": "python",
   "name": "python3"
  },
  "language_info": {
   "codemirror_mode": {
    "name": "ipython",
    "version": 3
   },
   "file_extension": ".py",
   "mimetype": "text/x-python",
   "name": "python",
   "nbconvert_exporter": "python",
   "pygments_lexer": "ipython3",
   "version": "3.10.13"
  }
 },
 "nbformat": 4,
 "nbformat_minor": 2
}
