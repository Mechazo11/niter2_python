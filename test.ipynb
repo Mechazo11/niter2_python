{
 "cells": [
  {
   "cell_type": "markdown",
   "metadata": {},
   "source": [
    "### Test script for developing niter2 python port"
   ]
  },
  {
   "cell_type": "code",
   "execution_count": null,
   "metadata": {},
   "outputs": [],
   "source": [
    "# Imports\n",
    "import finalproject as proj"
   ]
  },
  {
   "cell_type": "code",
   "execution_count": null,
   "metadata": {},
   "outputs": [],
   "source": [
    "proj.show_epilines(\"test\", \"SIFT\")"
   ]
  },
  {
   "cell_type": "code",
   "execution_count": null,
   "metadata": {},
   "outputs": [],
   "source": [
    "proj.show_epilines(\"test\", \"ORB\")"
   ]
  },
  {
   "cell_type": "code",
   "execution_count": 1,
   "metadata": {
    "metadata": {}
   },
   "outputs": [
    {
     "ename": "TypeError",
     "evalue": "Niter2.triangulate() missing 1 required positional argument: 's_mat'",
     "output_type": "error",
     "traceback": [
      "\u001b[0;31m---------------------------------------------------------------------------\u001b[0m",
      "\u001b[0;31mTypeError\u001b[0m                                 Traceback (most recent call last)",
      "Cell \u001b[0;32mIn[1], line 2\u001b[0m\n\u001b[1;32m      1\u001b[0m \u001b[38;5;28;01mimport\u001b[39;00m \u001b[38;5;21;01mfinalproject\u001b[39;00m \u001b[38;5;28;01mas\u001b[39;00m \u001b[38;5;21;01mproj\u001b[39;00m\n\u001b[0;32m----> 2\u001b[0m \u001b[43mproj\u001b[49m\u001b[38;5;241;43m.\u001b[39;49m\u001b[43mtest_pipeline\u001b[49m\u001b[43m(\u001b[49m\u001b[38;5;124;43m\"\u001b[39;49m\u001b[38;5;124;43mtest\u001b[39;49m\u001b[38;5;124;43m\"\u001b[39;49m\u001b[43m,\u001b[49m\u001b[43m \u001b[49m\u001b[38;5;124;43m\"\u001b[39;49m\u001b[38;5;124;43mSIFT\u001b[39;49m\u001b[38;5;124;43m\"\u001b[39;49m\u001b[43m,\u001b[49m\u001b[43m \u001b[49m\u001b[38;5;28;43;01mFalse\u001b[39;49;00m\u001b[43m)\u001b[49m\n",
      "File \u001b[0;32m~/Documents/niter2_python/finalproject.py:558\u001b[0m, in \u001b[0;36mtest_pipeline\u001b[0;34m(dataset_name, feature_detector, show_verbose)\u001b[0m\n\u001b[1;32m    546\u001b[0m right_pts \u001b[38;5;241m=\u001b[39m right_pts\u001b[38;5;241m.\u001b[39mastype(np\u001b[38;5;241m.\u001b[39mfloat32)\n\u001b[1;32m    548\u001b[0m \u001b[38;5;66;03m# TODO convert these into a function\u001b[39;00m\n\u001b[1;32m    549\u001b[0m \u001b[38;5;66;03m# rot1, rot2, tvec = cv2.decomposeEssentialMat(e_mat)\u001b[39;00m\n\u001b[1;32m    550\u001b[0m \u001b[38;5;66;03m# p_mat_right = generate_projection_matrix(k_mat, rot1, tvec) # outputs P2\u001b[39;00m\n\u001b[0;32m   (...)\u001b[0m\n\u001b[1;32m    555\u001b[0m \u001b[38;5;66;03m# triangualted_pts_hs.append(hs_pts3d.shape[0]) # int\u001b[39;00m\n\u001b[1;32m    556\u001b[0m \u001b[38;5;66;03m# plot_on_3d(hs_pts3d)\u001b[39;00m\n\u001b[0;32m--> 558\u001b[0m \u001b[43mniter2\u001b[49m\u001b[38;5;241;43m.\u001b[39;49m\u001b[43mtriangulate\u001b[49m\u001b[43m(\u001b[49m\u001b[43mleft_pts\u001b[49m\u001b[43m,\u001b[49m\u001b[43m \u001b[49m\u001b[43mright_pts\u001b[49m\u001b[43m,\u001b[49m\u001b[43m \u001b[49m\u001b[43me_mat\u001b[49m\u001b[43m)\u001b[49m\n\u001b[1;32m    560\u001b[0m \u001b[38;5;66;03m# if show_verbose:\u001b[39;00m\n\u001b[1;32m    561\u001b[0m \u001b[38;5;66;03m#     print(f\"Processed image pair: {pair_processed}\")\u001b[39;00m\n\u001b[1;32m    562\u001b[0m \u001b[38;5;66;03m#     print(f\"hs: triangulated points: {hs_pts3d.shape[0]}\")\u001b[39;00m\n\u001b[1;32m    563\u001b[0m \u001b[38;5;66;03m#     print(f\"t_hs: {t_hs} s\")\u001b[39;00m\n\u001b[1;32m    564\u001b[0m pair_processed\u001b[38;5;241m+\u001b[39m\u001b[38;5;241m=\u001b[39m\u001b[38;5;241m1\u001b[39m\n",
      "\u001b[0;31mTypeError\u001b[0m: Niter2.triangulate() missing 1 required positional argument: 's_mat'"
     ]
    }
   ],
   "source": [
    "import finalproject as proj\n",
    "proj.test_pipeline(\"test\", \"SIFT\", False)"
   ]
  },
  {
   "cell_type": "code",
   "execution_count": null,
   "metadata": {},
   "outputs": [],
   "source": [
    "import numpy as np\n",
    "algorithm = np.array([[2]], dtype=np.int8)\n",
    "if np.array_equal(algorithm, np.array([[1]], dtype=np.int8)):\n",
    "    print(\"self.algorithm is a scalar of value 1\")\n",
    "else:\n",
    "    print(\"self.algorithm is not a scalar of value 1\")"
   ]
  }
 ],
 "metadata": {
  "kernelspec": {
   "display_name": "me7953_app_comp",
   "language": "python",
   "name": "python3"
  },
  "language_info": {
   "codemirror_mode": {
    "name": "ipython",
    "version": 3
   },
   "file_extension": ".py",
   "mimetype": "text/x-python",
   "name": "python",
   "nbconvert_exporter": "python",
   "pygments_lexer": "ipython3",
   "version": "3.10.13"
  }
 },
 "nbformat": 4,
 "nbformat_minor": 2
}
