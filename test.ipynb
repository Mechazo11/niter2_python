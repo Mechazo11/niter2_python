{
 "cells": [
  {
   "cell_type": "markdown",
   "metadata": {},
   "source": [
    "### Test script for developing niter2 python port"
   ]
  },
  {
   "cell_type": "code",
   "execution_count": null,
   "metadata": {},
   "outputs": [],
   "source": [
    "# Imports\n",
    "import finalproject as proj"
   ]
  },
  {
   "cell_type": "code",
   "execution_count": null,
   "metadata": {},
   "outputs": [],
   "source": [
    "proj.demo_epilines(\"robot\")"
   ]
  },
  {
   "cell_type": "code",
   "execution_count": null,
   "metadata": {},
   "outputs": [],
   "source": [
    "#proj.show_epilines(\"robot\", \"SIFT\") # TODO make this function generate 2x2 images"
   ]
  },
  {
   "cell_type": "code",
   "execution_count": null,
   "metadata": {},
   "outputs": [],
   "source": [
    "#proj.show_epilines(\"robot\", \"ORB\")"
   ]
  },
  {
   "cell_type": "code",
   "execution_count": null,
   "metadata": {
    "metadata": {}
   },
   "outputs": [],
   "source": [
    "results_sift = proj.perform_experiment(\"robot\", \"SIFT\",\n",
    "                                  full_verbose=False,\n",
    "                                  short_verbose=False)\n",
    "results_sift.compute_rmse_get_best_points()\n",
    "results_sift.generate_plots()\n",
    "results_sift.generate_stats()"
   ]
  },
  {
   "cell_type": "code",
   "execution_count": null,
   "metadata": {},
   "outputs": [],
   "source": [
    "results_orb = proj.perform_experiment(\"robot\", \"ORB\",\n",
    "                                  full_verbose=False,\n",
    "                                  short_verbose=False)\n",
    "results_orb.compute_rmse_get_best_points()\n",
    "results_orb.generate_plots()\n",
    "results_orb.generate_stats()"
   ]
  },
  {
   "cell_type": "code",
   "execution_count": null,
   "metadata": {},
   "outputs": [],
   "source": [
    "results_sift = proj.perform_experiment(\"drone\", \"SIFT\",\n",
    "                                  full_verbose=False,\n",
    "                                  short_verbose=False)\n",
    "results_sift.compute_rmse_get_best_points()\n",
    "results_sift.generate_plots()\n",
    "results_sift.generate_stats()"
   ]
  },
  {
   "cell_type": "code",
   "execution_count": null,
   "metadata": {},
   "outputs": [],
   "source": [
    "results_orb = proj.perform_experiment(\"drone\", \"ORB\",\n",
    "                                  full_verbose=False,\n",
    "                                  short_verbose=False)\n",
    "results_orb.compute_rmse_get_best_points()\n",
    "results_orb.generate_plots()\n",
    "results_orb.generate_stats()"
   ]
  }
 ],
 "metadata": {
  "kernelspec": {
   "display_name": "me7953_app_comp",
   "language": "python",
   "name": "python3"
  },
  "language_info": {
   "codemirror_mode": {
    "name": "ipython",
    "version": 3
   },
   "file_extension": ".py",
   "mimetype": "text/x-python",
   "name": "python",
   "nbconvert_exporter": "python",
   "pygments_lexer": "ipython3",
   "version": "3.10.13"
  }
 },
 "nbformat": 4,
 "nbformat_minor": 2
}
