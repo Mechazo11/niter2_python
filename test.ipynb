{
 "cells": [
  {
   "cell_type": "markdown",
   "metadata": {},
   "source": [
    "### Test script for developing niter2 python port"
   ]
  },
  {
   "cell_type": "code",
   "execution_count": null,
   "metadata": {},
   "outputs": [],
   "source": [
    "# Imports\n",
    "import finalproject as proj"
   ]
  },
  {
   "cell_type": "code",
   "execution_count": null,
   "metadata": {},
   "outputs": [],
   "source": [
    "proj.show_epilines(\"test\", \"SIFT\")"
   ]
  },
  {
   "cell_type": "code",
   "execution_count": null,
   "metadata": {},
   "outputs": [],
   "source": [
    "proj.show_epilines(\"test\", \"ORB\")"
   ]
  },
  {
   "cell_type": "code",
   "execution_count": 1,
   "metadata": {
    "metadata": {}
   },
   "outputs": [
    {
     "name": "stdout",
     "output_type": "stream",
     "text": [
      "running warmup....\n",
      "n: [5. 5.], n_prime: [3. 3.]\n",
      "warmup complete\n",
      "[[  9. 225.]\n",
      " [  9. 216.]\n",
      " [ 14. 296.]\n",
      " [ 17. 261.]\n",
      " [ 18. 127.]]\n",
      "\n",
      "[[  5. 223.]\n",
      " [  6. 214.]\n",
      " [ 11. 295.]\n",
      " [ 12. 260.]\n",
      " [ 15. 124.]]\n",
      "\n",
      "[[    1.07326294  1255.98782151  -142.90615119]\n",
      " [-1261.60934979     3.34508106    23.34243086]\n",
      " [  141.51516519   -24.46183154     0.12185632]]\n",
      "\n",
      "n: [279947.74435929  -5538.75124228], n_prime: [-283710.92917205   12032.07179997]\n",
      "n: [268644.92722867  -6830.46632159], n_prime: [-272356.4450239    12001.96607045]\n",
      "n: [370385.30708532 -12867.5615049 ], n_prime: [-373279.82669274   18549.51166258]\n",
      "n: [326426.80659556 -14246.24869171], n_prime: [-329120.27966114   22200.39729008]\n",
      "n: [155615.68265957 -18486.00776492], n_prime: [-160063.5535258    23008.14424988]\n"
     ]
    }
   ],
   "source": [
    "import finalproject as proj\n",
    "import numpy as np\n",
    "np.set_printoptions(suppress=True)\n",
    "\n",
    "proj.test_pipeline(\"test\", \"SIFT\", False)"
   ]
  },
  {
   "cell_type": "code",
   "execution_count": 1,
   "metadata": {},
   "outputs": [
    {
     "name": "stdout",
     "output_type": "stream",
     "text": [
      "(5, 2)\n",
      "(5, 1)\n",
      "[[ 1.0732629e+00  1.2559878e+03 -1.4290616e+02]\n",
      " [-1.2616094e+03  3.3450811e+00  2.3342430e+01]\n",
      " [ 1.4151517e+02 -2.4461832e+01  1.2185632e-01]]\n",
      "n_mat shape: (5, 2), n_mat_prime shape: (5, 2)\n",
      "[[279947.75    -5538.7515]\n",
      " [268644.9     -6830.467 ]\n",
      " [370385.3    -12867.562 ]\n",
      " [326426.8    -14246.249 ]\n",
      " [155615.67   -18486.008 ]]\n",
      "\n",
      "[[-283710.94    12032.072]\n",
      " [-272356.47    12001.966]\n",
      " [-373279.84    18549.512]\n",
      " [-329120.3     22200.398]\n",
      " [-160063.56    23008.146]]\n"
     ]
    }
   ],
   "source": [
    "import finalproject as proj\n",
    "import numpy as np\n",
    "\n",
    "lp = np.array([[9,225],[9,216],[14,296],[17,261],[18,127]], dtype=np.float32)\n",
    "rp = np.array([[5,223],[6,214],[11,295],[12,260],[15,124]], dtype=np.float32)\n",
    "sp = np.array([[1,0,0], [0,1,0]], dtype=np.float32)\n",
    "ep = np.array([[1.07326294, 1255.98782151, -142.90615119],\n",
    "               [-1261.60934979, 3.34508106, 23.34243086],\n",
    "               [141.51516519,-24.46183154,0.12185632]], dtype=np.float32)\n",
    "algo = np.array([[1]], dtype=float)\n",
    "\n",
    "print(lp.shape)\n",
    "\n",
    "arr_add = np.ones(lp.shape[0], dtype=np.float32).reshape(-1,1)\n",
    "print(arr_add.shape)\n",
    "\n",
    "print(ep)\n",
    "proj._non_iter_vectorized(algo, lp, rp, ep, sp)"
   ]
  }
 ],
 "metadata": {
  "kernelspec": {
   "display_name": "me7953_app_comp",
   "language": "python",
   "name": "python3"
  },
  "language_info": {
   "codemirror_mode": {
    "name": "ipython",
    "version": 3
   },
   "file_extension": ".py",
   "mimetype": "text/x-python",
   "name": "python",
   "nbconvert_exporter": "python",
   "pygments_lexer": "ipython3",
   "version": "3.10.13"
  }
 },
 "nbformat": 4,
 "nbformat_minor": 2
}
