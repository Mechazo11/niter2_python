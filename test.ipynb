{
 "cells": [
  {
   "cell_type": "markdown",
   "metadata": {},
   "source": [
    "### Test script for developing niter2 python port"
   ]
  },
  {
   "cell_type": "code",
   "execution_count": null,
   "metadata": {},
   "outputs": [],
   "source": [
    "# Imports\n",
    "import finalproject as proj"
   ]
  },
  {
   "cell_type": "code",
   "execution_count": null,
   "metadata": {},
   "outputs": [],
   "source": [
    "proj.show_epilines(\"test\", \"SIFT\")"
   ]
  },
  {
   "cell_type": "code",
   "execution_count": null,
   "metadata": {},
   "outputs": [],
   "source": [
    "proj.show_epilines(\"test\", \"ORB\")"
   ]
  },
  {
   "cell_type": "code",
   "execution_count": 1,
   "metadata": {
    "metadata": {}
   },
   "outputs": [
    {
     "name": "stdout",
     "output_type": "stream",
     "text": [
      "x: [  9. 225.]\n",
      "x': [  5. 223.]\n",
      "\n",
      "x_hat: [  6.768188   225.06695063   1.        ]\n",
      "x_hat': [  7.26323153 222.92640666   1.        ]\n",
      "\n",
      "x_3d: [ 18901.21530346 628534.38680265   2792.65518569]\n"
     ]
    }
   ],
   "source": [
    "import finalproject as proj\n",
    "proj.test_pipeline(\"test\", \"SIFT\", False)"
   ]
  },
  {
   "cell_type": "code",
   "execution_count": null,
   "metadata": {},
   "outputs": [],
   "source": [
    "import numpy as np\n",
    "algorithm = np.array([[2]], dtype=np.int8)\n",
    "if np.array_equal(algorithm, np.array([[1]], dtype=np.int8)):\n",
    "    print(\"self.algorithm is a scalar of value 1\")\n",
    "else:\n",
    "    print(\"self.algorithm is not a scalar of value 1\")"
   ]
  },
  {
   "cell_type": "code",
   "execution_count": 2,
   "metadata": {},
   "outputs": [
    {
     "name": "stdout",
     "output_type": "stream",
     "text": [
      "[  0 -21  14]\n"
     ]
    }
   ],
   "source": [
    "import numpy as np\n",
    "\n",
    "# Example vectors and matrix\n",
    "x_hat = np.array([1, 2, 3])  # [1x3] vector\n",
    "R = np.array([[0, -1, 0], [1, 0, 0], [0, 0, 1]])  # [3x3] matrix\n",
    "x_hat_prime = np.array([4, 5, 6])  # [1x3] vector\n",
    "\n",
    "# Compute R * x_hat_prime\n",
    "Rx_prime = np.dot(R, x_hat_prime)\n",
    "\n",
    "# Compute cross product of x_hat and Rx_prime\n",
    "z = np.cross(x_hat, Rx_prime)\n",
    "\n",
    "print(z)"
   ]
  }
 ],
 "metadata": {
  "kernelspec": {
   "display_name": "me7953_app_comp",
   "language": "python",
   "name": "python3"
  },
  "language_info": {
   "codemirror_mode": {
    "name": "ipython",
    "version": 3
   },
   "file_extension": ".py",
   "mimetype": "text/x-python",
   "name": "python",
   "nbconvert_exporter": "python",
   "pygments_lexer": "ipython3",
   "version": "3.10.13"
  }
 },
 "nbformat": 4,
 "nbformat_minor": 2
}
